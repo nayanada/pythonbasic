{
 "cells": [
  {
   "cell_type": "markdown",
   "metadata": {},
   "source": [
    "## Anaconda"
   ]
  },
  {
   "cell_type": "markdown",
   "metadata": {},
   "source": [
    "Leading Open Data Science Platform Powered by Python"
   ]
  },
  {
   "cell_type": "markdown",
   "metadata": {},
   "source": [
    "<https://www.continuum.io/what-is-anaconda>"
   ]
  },
  {
   "cell_type": "markdown",
   "metadata": {},
   "source": [
    "우리가 설치한 것은 Anaconda distribution\n",
    "* 패키지 관리자\n",
    "* 환경 관리자\n",
    "* 720 개 이상의 오픈 소스 패키지 모음을 포함한 Python 배포판"
   ]
  },
  {
   "cell_type": "markdown",
   "metadata": {},
   "source": [
    "## 주피터 노트북\n",
    "주피터 노트북은 실행 가능한 코드, 수식, 시각화 결과, 설명문 등을 포함한 복합 문서를 생성하여 공유할 수 있도록 하는 웹 응용 프로그램으로 최근 데이터 정제와 변환, 시뮬레이션, 통계 모델링, 기계 학습 등의 다양한 분야에서 큰 인기를 끌고 있다.\n",
    "\n",
    "주피터 노트북의 주요 요소는 다음과 같다.\n",
    "\n",
    "* **노트북 문서**: 노트북 문서, 줄여서 노트북은 주피터 노트북 앱에 의해 생성된 복합 문서로 실행 가능한 코드(파이썬, 줄리아, R, 스칼라 등)와 그림, 수식 등을 포함하고 있는 파일이다. 확장자는 `.ipynb`이다. 이 파일은 다른 사용자들과 공유가 가능하며, HTML, PDF, 마크다운 등의 형식으로 변환할 수도 있다.\n",
    "* **주피터 노트북 앱**: 주피터 노트북 앱은 클라이언트-서버 방식의 웹 응용 프로그램으로 노트특 문서의 편집과 실행을 웹 브라우저를 통해 수행할 수 있도록 해준다. 주피터 노트북 앱은 로컬 기계에서 인터넷 연결 없이 실행할 수도 있고 원격 서버에 설치된 앱을 인터넷을 통하여 실행할 수도 있다. 주피터 노트북 앱은 노트북 파일의 목록 등이 표시되는 대시보드와 노트북 문서를 편집하고 실행하는 편집기로 구성된다."
   ]
  },
  {
   "cell_type": "markdown",
   "metadata": {},
   "source": [
    ">주피터 노트북 이외에 널리 사용되는 파이썬 통합 개발 환경으로 파이참(<https://www.jetbrains.com/pycharm>)이 있다. 앞서 언급한 노트패드++, 에이톰, 비주얼 스튜디오 코드에 파이썬 플러그인을 설치하여 사용할 수도 있다. 범용 통합 개발 환경인 이클립스(<http://www.eclipse.org>)의 파이썬 애드온인 파이데브(<http://www.pydev.org>)도 선택지 가운데 하나이다. 그외 여러 파이썬 통합 개발 환경에 관련 정보를 위키(<https://wiki.python.org/moin/IntegratedDevelopmentEnvironments>)에서 얻을 수 있다."
   ]
  },
  {
   "cell_type": "markdown",
   "metadata": {},
   "source": [
    "## 주피터 노트북의 실행과 종료\n",
    "주피터 노트북은 시스템 메뉴에서 [윈도우 - Anaconda3 (64-bit) - Jupyter Notebook]을 선택하여 실행할 수 있다. 그러면 명령행 창이 표시되면서 시스템의 기본 브라우저를 통해 주피터 노트북 앱이 실행된다.\n",
    "주피터 노트북을 처음 실행할 때에는 구동에 시간이 오래 걸린다."
   ]
  },
  {
   "cell_type": "markdown",
   "metadata": {},
   "source": [
    ">주피터 노트북은 어떤 브라우저에서나 동작하지만 크롬 브라우저에서 가장 잘 동작하는 것으로 알려져 있다. 크롬 브라우저를 주피터 노트북에서 사용하려면 시스템 기본 브라우저로 등록하면 된다."
   ]
  },
  {
   "cell_type": "markdown",
   "metadata": {},
   "source": [
    "주피터 노트북을 종료할 때에는 표시된 명령행 창을 마우스 포인터로 클릭하여 활성화한 다음 `Ctrl-C`를 두 번 누르거나 그 창 자체를 닫고 브라우저 창을 닫으면 된다."
   ]
  },
  {
   "cell_type": "markdown",
   "metadata": {},
   "source": [
    ">맥오에스 사용자들은 이와 비슷하게 `run-notebook.command` 파일을 파인더에서 더블클릭하여 주피터 노트북을 실행할 수 있다. 다만 주피터 노트북을 종료한 다음에도 터미널이 자동으로 종료되지 않으므로 수동으로 종료해야 한다."
   ]
  },
  {
   "cell_type": "markdown",
   "metadata": {},
   "source": [
    "## 주피터 노트북 기본 사용법\n",
    "주피터 노트북을 실행하면 브라우저 창에 대시보드가 표시된다.\n",
    "대시보드는 주피터 노트북 앱의 홈페이지 역활을 하며 현재 작업 디렉토리에 있는 노트북과 다른 파일들을 목록으로 보여준다. \n",
    "앞서 설명한 방법으로 주피터 노트북을 실행하면 다음과 같은 창이 표시된다."
   ]
  },
  {
   "cell_type": "code",
   "execution_count": 1,
   "metadata": {},
   "outputs": [
    {
     "name": "stdout",
     "output_type": "stream",
     "text": [
      "hello\n"
     ]
    }
   ],
   "source": [
    "print(\"hello\")\n",
    "\n"
   ]
  },
  {
   "cell_type": "markdown",
   "metadata": {},
   "source": [
    "![주피터 노트북 대시보드](figs/dashboard.png)"
   ]
  },
  {
   "cell_type": "markdown",
   "metadata": {},
   "source": [
    "기본 작업 디렉토리는 사용자의 홈디렉토리 밑의 `Documents`(예: `C:\\Users\\hongkildong`)로 설정된다.\n",
    "\n",
    "노트북을 새로 만들려면 상단의 \"New\" 단추를 누르고 드롭다운 목록에서 원하는 커널, 우리의 경우에는 \"Python [conda root]\" 혹은 \"Python [default]\"를 선택한다."
   ]
  },
  {
   "cell_type": "markdown",
   "metadata": {},
   "source": [
    "![새 노트북 만들기](figs/new-notebook.png)"
   ]
  },
  {
   "cell_type": "markdown",
   "metadata": {},
   "source": [
    "그리고 나면 다음과 같이 빈 노트북이 생성된다."
   ]
  },
  {
   "cell_type": "markdown",
   "metadata": {},
   "source": [
    "![생성된 노트북](figs/blank-notebook.png)"
   ]
  },
  {
   "cell_type": "markdown",
   "metadata": {},
   "source": [
    "위에서 코드와 문서 마크업 등을 입력할 수 있는 칸을 \"셀\"이라고 부른다.\n",
    "각 셀은 이른바 \"모덜 편집기\"로 구성이 되어 있어서 **명령** 모드와 **편집** 모드의 두 가지 모드를 가지고 있다.\n",
    "\n",
    "셀이 편집 모드에 있을 때에는 셀의 왼쪽 경계선이 녹색으로 표시되며 커서가 깜빡거리며 대기한다. 이 상태에서는 일반 편집기에서와 마찬가지로 코드나 텍스트의 입력과 편집을 자유롭게 할 수 있다.\n",
    "\n",
    "명령 모드는 회색 셀 경계선과 청색 왼쪽 여백선으로 표시된다. 이 상태에서는 셀 안의 코드를 실행하거나 셀 단위 이동, 셀의 복사와 붙이기 등의 동작을 실행할 수 있다.\n",
    "\n",
    "주피터 노트북 편집기의 모든 동작은 마우스를 이용하여 수행할 수 있지만 단축키를 익혀서 키보드를 사용하는 것이 훨씬 더 효율적이다. 처음부터 모든 단축키를 기억하는 것은 어려운 일이고 다음의 핵심 단축키들부터 먼저 익숙해지자.\n",
    "\n",
    "* `Shift-Enter`: 셀 실행.\n",
    "커서가 위치하는 현재 셀을 실행하여 결과를 출력하고 다음 셀로 이동한다.\n",
    "`Shift-Enter`가 마지막 셀에서 눌려지면 새로운 코드 셀이 생성된다.\n",
    "이 단축키는 메뉴에서 [Cell-Run Cells and Select Below]을 실행하는 것과 같다.\n",
    "* `Ctrl-Enter`: 제자리 셀 실행.\n",
    "커서가 있는 현재 셀을 실행하지만 커서는 현재 셀에 머문다.\n",
    "현재 셀을 계속 편집하면서 작은 실험을 해볼 때에 편리하다.\n",
    "* `Alt-Enter`: 셀 실행, 다음 셀 삽입.\n",
    "커서가 위치하는 현재 셀을 실행하고 바로 아래에 새로운 셀을 삽입한다.\n",
    "* `ESC`: 편집 모드에서 명령 모드로 전환한다.\n",
    "* `Enter`: 명령 모드에서 편집 모드로 전환한다."
   ]
  }
 ],
 "metadata": {
  "kernelspec": {
   "display_name": "Python 3",
   "language": "python",
   "name": "python3"
  },
  "language_info": {
   "codemirror_mode": {
    "name": "ipython",
    "version": 3
   },
   "file_extension": ".py",
   "mimetype": "text/x-python",
   "name": "python",
   "nbconvert_exporter": "python",
   "pygments_lexer": "ipython3",
   "version": "3.6.1"
  }
 },
 "nbformat": 4,
 "nbformat_minor": 2
}
