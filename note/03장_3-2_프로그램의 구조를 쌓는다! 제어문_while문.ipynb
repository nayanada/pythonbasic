{
 "cells": [
  {
   "cell_type": "markdown",
   "metadata": {},
   "source": [
    "# 03-2 while문\n",
    "\n",
    "# while문의 기본 구조\n",
    "\n",
    "반복해서 문장을 수행해야 할 경우 while문을 사용한다. 그래서 while문을 반복문이라고도 부른다.\n",
    "\n",
    "다음은 while문의 기본 구조이다."
   ]
  },
  {
   "cell_type": "code",
   "execution_count": null,
   "metadata": {
    "collapsed": true
   },
   "outputs": [],
   "source": [
    "while <조건문>:\n",
    "    <수행할 문장1>\n",
    "    <수행할 문장2>\n",
    "    <수행할 문장3>\n",
    "    ..."
   ]
  },
  {
   "cell_type": "markdown",
   "metadata": {},
   "source": [
    "while문은 조건문이 참인 동안에 while문 아래에 속하는 문장들이 반복해서 수행된다.\n",
    "\n",
    "\"열 번 찍어 안 넘어 가는 나무 없다\" 라는 속담을 파이썬 프로그램으로 만든다면 다음과 같이 될 것이다."
   ]
  },
  {
   "cell_type": "code",
   "execution_count": 1,
   "metadata": {
    "collapsed": false
   },
   "outputs": [
    {
     "name": "stdout",
     "output_type": "stream",
     "text": [
      "나무를 1번 찍었습니다.\n",
      "나무를 2번 찍었습니다.\n",
      "나무를 3번 찍었습니다.\n",
      "나무를 4번 찍었습니다.\n",
      "나무를 5번 찍었습니다.\n",
      "나무를 6번 찍었습니다.\n",
      "나무를 7번 찍었습니다.\n",
      "나무를 8번 찍었습니다.\n",
      "나무를 9번 찍었습니다.\n",
      "나무를 10번 찍었습니다.\n",
      "나무 넘어갑니다.\n"
     ]
    }
   ],
   "source": [
    ">>> treeHit = 0\n",
    ">>> while treeHit < 10:\n",
    "...     treeHit = treeHit +1\n",
    "...     print(\"나무를 %d번 찍었습니다.\" % treeHit)\n",
    "...     if treeHit == 10:\n",
    "...         print(\"나무 넘어갑니다.\")"
   ]
  },
  {
   "cell_type": "markdown",
   "metadata": {},
   "source": [
    "위의 예에서 while문의 조건문은 treeHit < 10 이다. 즉, treeHit가 10보다 작은 동안에 while문 안의 문장들을 계속 수행한다. whlie문 안의 문장을 보면 제일 먼저 treeHit = treeHit + 1로 treeHit 값이 계속 1씩 증가한다. 그리고 나무를 treeHit번만큼 찍었음을 알리는 문장을 출력하고 treeHit가 10이 되면 \"나무 넘어갑니다.\"라는 문장을 출력한다. 그러고 나면 treeHit < 10 이라는 조건문이 거짓이 되므로 while문을 빠져나가게 된다.\n",
    "\n",
    "(※ treeHit = treeHit + 1 은 프로그래밍을 할 때 매우 자주 사용하는 기법이다. treeHit의 값을 1만큼씩 증가시킬 목적으로 사용되며, treeHit +=1 처럼 사용되기도 한다.)\n",
    "\n",
    "다음은 while문이 반복되는 과정을 순서대로 정리한 표이다. 이렇게 긴 과정을 소스 코드 단 5줄로 만들 수 있다니 놀랍지 않은가?"
   ]
  },
  {
   "cell_type": "code",
   "execution_count": 3,
   "metadata": {
    "collapsed": false
   },
   "outputs": [
    {
     "data": {
      "text/html": [
       "<div>\n",
       "<table border=\"1\" class=\"dataframe\">\n",
       "  <thead>\n",
       "    <tr style=\"text-align: right;\">\n",
       "      <th></th>\n",
       "      <th>treeHit</th>\n",
       "      <th>조건문</th>\n",
       "      <th>조건판단</th>\n",
       "      <th>수행하는 문장</th>\n",
       "      <th>while문</th>\n",
       "    </tr>\n",
       "  </thead>\n",
       "  <tbody>\n",
       "    <tr>\n",
       "      <th>0</th>\n",
       "      <td>0</td>\n",
       "      <td>0 &lt; 10</td>\n",
       "      <td>참</td>\n",
       "      <td>나무를 1번 찍었습니다.</td>\n",
       "      <td>반복</td>\n",
       "    </tr>\n",
       "    <tr>\n",
       "      <th>1</th>\n",
       "      <td>1</td>\n",
       "      <td>1 &lt; 10</td>\n",
       "      <td>참</td>\n",
       "      <td>나무를 2번 찍었습니다.</td>\n",
       "      <td>반복</td>\n",
       "    </tr>\n",
       "    <tr>\n",
       "      <th>2</th>\n",
       "      <td>2</td>\n",
       "      <td>2 &lt; 10</td>\n",
       "      <td>참</td>\n",
       "      <td>나무를 3번 찍었습니다.</td>\n",
       "      <td>반복</td>\n",
       "    </tr>\n",
       "    <tr>\n",
       "      <th>3</th>\n",
       "      <td>3</td>\n",
       "      <td>3 &lt; 10</td>\n",
       "      <td>참</td>\n",
       "      <td>나무를 4번 찍었습니다.</td>\n",
       "      <td>반복</td>\n",
       "    </tr>\n",
       "    <tr>\n",
       "      <th>4</th>\n",
       "      <td>4</td>\n",
       "      <td>4 &lt; 10</td>\n",
       "      <td>참</td>\n",
       "      <td>나무를 5번 찍었습니다.</td>\n",
       "      <td>반복</td>\n",
       "    </tr>\n",
       "    <tr>\n",
       "      <th>5</th>\n",
       "      <td>5</td>\n",
       "      <td>5 &lt; 10</td>\n",
       "      <td>참</td>\n",
       "      <td>나무를 6번 찍었습니다.</td>\n",
       "      <td>반복</td>\n",
       "    </tr>\n",
       "    <tr>\n",
       "      <th>6</th>\n",
       "      <td>6</td>\n",
       "      <td>6 &lt; 10</td>\n",
       "      <td>참</td>\n",
       "      <td>나무를 7번 찍었습니다.</td>\n",
       "      <td>반복</td>\n",
       "    </tr>\n",
       "    <tr>\n",
       "      <th>7</th>\n",
       "      <td>7</td>\n",
       "      <td>7 &lt; 10</td>\n",
       "      <td>참</td>\n",
       "      <td>나무를 8번 찍었습니다.</td>\n",
       "      <td>반복</td>\n",
       "    </tr>\n",
       "    <tr>\n",
       "      <th>8</th>\n",
       "      <td>8</td>\n",
       "      <td>8 &lt; 10</td>\n",
       "      <td>참</td>\n",
       "      <td>나무를 9번 찍었습니다.</td>\n",
       "      <td>반복</td>\n",
       "    </tr>\n",
       "    <tr>\n",
       "      <th>9</th>\n",
       "      <td>9</td>\n",
       "      <td>9 &lt; 10</td>\n",
       "      <td>참</td>\n",
       "      <td>나무를 10번 찍었습니다. 나무 넘어갑니다.</td>\n",
       "      <td>반복</td>\n",
       "    </tr>\n",
       "    <tr>\n",
       "      <th>10</th>\n",
       "      <td>10</td>\n",
       "      <td>10 &lt; 10</td>\n",
       "      <td>거짓</td>\n",
       "      <td></td>\n",
       "      <td>종료</td>\n",
       "    </tr>\n",
       "  </tbody>\n",
       "</table>\n",
       "</div>"
      ],
      "text/plain": [
       "   treeHit      조건문 조건판단                   수행하는 문장 while문\n",
       "0        0   0 < 10    참             나무를 1번 찍었습니다.     반복\n",
       "1        1   1 < 10    참             나무를 2번 찍었습니다.     반복\n",
       "2        2   2 < 10    참             나무를 3번 찍었습니다.     반복\n",
       "3        3   3 < 10    참             나무를 4번 찍었습니다.     반복\n",
       "4        4   4 < 10    참             나무를 5번 찍었습니다.     반복\n",
       "5        5   5 < 10    참             나무를 6번 찍었습니다.     반복\n",
       "6        6   6 < 10    참             나무를 7번 찍었습니다.     반복\n",
       "7        7   7 < 10    참             나무를 8번 찍었습니다.     반복\n",
       "8        8   8 < 10    참             나무를 9번 찍었습니다.     반복\n",
       "9        9   9 < 10    참  나무를 10번 찍었습니다. 나무 넘어갑니다.     반복\n",
       "10      10  10 < 10   거짓                               종료"
      ]
     },
     "execution_count": 3,
     "metadata": {},
     "output_type": "execute_result"
    }
   ],
   "source": [
    "import pandas as pd\n",
    "data = {'treeHit': ['0', '1', '2', '3', '4', '5', '6', '7', '8', '9', '10'],\n",
    "        '조건문': ['0 < 10', '1 < 10', '2 < 10', '3 < 10', '4 < 10', '5 < 10', '6 < 10', '7 < 10', '8 < 10', '9 < 10', '10 < 10' ],\n",
    "        '조건판단': ['참', '참', '참', '참', '참', '참', '참', '참', '참', '참', '거짓'],\n",
    "        '수행하는 문장': ['나무를 1번 찍었습니다.', '나무를 2번 찍었습니다.', '나무를 3번 찍었습니다.', '나무를 4번 찍었습니다.', '나무를 5번 찍었습니다.', '나무를 6번 찍었습니다.', '나무를 7번 찍었습니다.', '나무를 8번 찍었습니다.', '나무를 9번 찍었습니다.', '나무를 10번 찍었습니다. 나무 넘어갑니다.', ''],\n",
    "        'while문': ['반복', '반복', '반복', '반복', '반복', '반복', '반복', '반복', '반복', '반복', '종료']}\n",
    "df = pd.DataFrame(data)\n",
    "df[['treeHit', '조건문', '조건판단', '수행하는 문장', 'while문']]"
   ]
  },
  {
   "cell_type": "markdown",
   "metadata": {},
   "source": [
    "# while문 직접 만들기\n",
    "\n",
    "다음을 직접 입력해 보자. 여러 가지 선택지 중 하나를 선택해서 입력받는 예제이다. 먼저 다음과 같이 여러 줄짜리 문자열을 만들어 보자."
   ]
  },
  {
   "cell_type": "code",
   "execution_count": 5,
   "metadata": {
    "collapsed": true
   },
   "outputs": [],
   "source": [
    ">>> prompt = \"\"\"\n",
    "... 1. Add\n",
    "... 2. Del\n",
    "... 3. List\n",
    "... 4. Quit\n",
    "...\n",
    "... Enter number: \"\"\"\n",
    ">>>"
   ]
  },
  {
   "cell_type": "markdown",
   "metadata": {},
   "source": [
    "이어서 number라는 변수에 0을 먼저 대입한다. 이렇게 변수를 먼저 설정해 놓지 않으면 다음에 나올 while문의 조건문인 number != 4에서 변수가 존재하지 않는다는 에러가 발생한다."
   ]
  },
  {
   "cell_type": "code",
   "execution_count": null,
   "metadata": {
    "collapsed": false
   },
   "outputs": [
    {
     "name": "stdout",
     "output_type": "stream",
     "text": [
      "\n",
      "1. Add\n",
      "2. Del\n",
      "3. List\n",
      "4. Quit\n",
      "\n",
      "Enter number: \n"
     ]
    }
   ],
   "source": [
    ">>> number = 0\n",
    ">>> while number != 4:\n",
    "...     print(prompt)\n",
    "...     number = int(input())"
   ]
  },
  {
   "cell_type": "markdown",
   "metadata": {},
   "source": [
    "while문을 보면 number가 4가 아닌 동안 prompt를 출력하고 사용자로부터 번호를 입력받는다. 다음의 결과 화면처럼 사용자가 4라는 값을 입력하지 않으면 계속해서 prompt를 출력한다.\n",
    "\n",
    "(※ 여기서 number = int(input())는 사용자의 숫자 입력을 받아들이는 것이라고만 알아두자. int나 input 함수에 대한 내용은 뒤의 내장 함수 부분에서 자세하게 다룬다.)"
   ]
  },
  {
   "cell_type": "code",
   "execution_count": null,
   "metadata": {
    "collapsed": true
   },
   "outputs": [],
   "source": [
    "Enter number:\n",
    "1\n",
    "\n",
    "1. Add\n",
    "2. Del\n",
    "3. List\n",
    "4. Quit"
   ]
  },
  {
   "cell_type": "markdown",
   "metadata": {},
   "source": [
    "4를 입력하면 조건문이 거짓이 되어 while문을 빠져나가게 된다."
   ]
  },
  {
   "cell_type": "code",
   "execution_count": null,
   "metadata": {
    "collapsed": true
   },
   "outputs": [],
   "source": [
    "Enter number:\n",
    "4"
   ]
  },
  {
   "cell_type": "markdown",
   "metadata": {},
   "source": [
    "# while문 강제로 빠져나가기\n",
    "\n",
    "while문은 조건문이 참인 동안 계속해서 while문 안의 내용을 반복적으로 수행한다. 하지만 강제로 while문을 빠져나가고 싶을 때가 있다. 예를 들어 커피 자판기를 생각해 보자. 자판기 안에 커피가 충분히 있을 때에는 동전을 넣으면 커피가 나온다. 그런데 자판기가 제대로 작동하려면 커피가 얼마나 남았는지 항상 검사해야 한다. 만약 커피가 떨어졌다면 판매를 중단하고 \"판매 중지\"라는 문구를 사용자에게 보여주어야 한다. 이렇게 판매를 강제로 멈추게 하는 것이 바로 break문이다.\n",
    "\n",
    "다음의 예는 커피 자판기 이야기를 파이썬 프로그램으로 표현해 본 것이다."
   ]
  },
  {
   "cell_type": "code",
   "execution_count": null,
   "metadata": {
    "collapsed": true
   },
   "outputs": [],
   "source": [
    ">>> coffee = 10\n",
    ">>> money = 300\n",
    ">>> while money:\n",
    "...     print(\"돈을 받았으니 커피를 줍니다.\")\n",
    "...     coffee = coffee -1\n",
    "...     print(\"남은 커피의 양은 %d개입니다.\" % coffee)\n",
    "...     if not coffee:\n",
    "...         print(\"커피가 다 떨어졌습니다. 판매를 중지합니다.\")\n",
    "...         break"
   ]
  },
  {
   "cell_type": "markdown",
   "metadata": {},
   "source": [
    "money가 300으로 고정되어 있으므로 while money:에서 조건문인 money는 0이 아니기 때문에 항상 참이다. 따라서 무한히 반복되는 무한 루프를 돌게 된다. 그리고 while문의 내용을 한 번 수행할 때마다 coffee = coffee - 1에 의해서 coffee의 개수가 1개씩 줄어든다. 만약 coffee가 0이 되면 if not coffee:라는 문장에서 not coffee가 참이 되므로 if문 다음의 문장인 \"커피가 다 떨어졌습니다. 판매를 중지합니다.\"가 수행되고 break문이 호출되어 while문을 빠져나가게 된다."
   ]
  },
  {
   "cell_type": "markdown",
   "metadata": {},
   "source": [
    "### break문 이용해 자판기 작동 과정 만들기\n",
    "\n",
    "하지만 실제 자판기는 위의 예처럼 작동하지는 않을 것이다. 다음은 자판기의 실제 작동 과정과 비슷하게 만들어 본 예이다. 이해가 안 되더라도 걱정하지 말자. 아래의 예는 조금 복잡하니까 대화형 인터프리터를 이용하지 말고 에디터를 이용해서 작성해 보자."
   ]
  },
  {
   "cell_type": "code",
   "execution_count": null,
   "metadata": {
    "collapsed": true
   },
   "outputs": [],
   "source": [
    "# coffee.py\n",
    "\n",
    "coffee = 10\n",
    "while True:\n",
    "    money = int(input(\"돈을 넣어 주세요: \"))\n",
    "    if money == 300:\n",
    "        print(\"커피를 줍니다.\")\n",
    "        coffee = coffee -1\n",
    "    elif money > 300:\n",
    "        print(\"거스름돈 %d를 주고 커피를 줍니다.\" % (money -300))\n",
    "        coffee = coffee -1\n",
    "    else:\n",
    "        print(\"돈을 다시 돌려주고 커피를 주지 않습니다.\")\n",
    "        print(\"남은 커피의 양은 %d개 입니다.\" % coffee)\n",
    "    if not coffee:\n",
    "        print(\"커피가 다 떨어졌습니다. 판매를 중지 합니다.\")\n",
    "        break"
   ]
  },
  {
   "cell_type": "markdown",
   "metadata": {},
   "source": [
    "위의 프로그램 소스를 따로 설명하지는 않겠다. 여러분이 소스를 입력하면서 무슨 내용인지 이해할 수 있다면 지금껏 배운 if문이나 while문을 이해했다고 보면 된다. 만약 money = int(input(\"돈을 넣어 주세요:\"))라는 문장이 이해되지 않는다면 이 문장은 사용자로부터 입력을 받는 부분이고 입력받은 숫자를 money라는 변수에 대입하는 것이라고만 알아두자.\n",
    "\n",
    "이제 coffee.py 파일을 저장한 후 프로그램을 직접 실행해 보자. 아래와 같은 입력란이 나타난다.\n",
    "\n",
    "> C:\\Python>python coffee.py <br>\n",
    "돈을 넣어 주세요:\n",
    "\n",
    "입력란에 여러 숫자를 입력해 보면서 결과를 확인하자.\n",
    "\n",
    "> 돈을 넣어 주세요: 500 <br>\n",
    "거스름돈 200를 주고 커피를 줍니다. <br>\n",
    "돈을 넣어 주세요: 300 <br>\n",
    "커피를 줍니다. <br>\n",
    "돈을 넣어 주세요: 100 <br>\n",
    "돈을 다시 돌려주고 커피를 주지 않습니다. <br>\n",
    "남은 커피의 양은 8개입니다. <br>\n",
    "돈을 넣어 주세요:"
   ]
  },
  {
   "cell_type": "markdown",
   "metadata": {},
   "source": [
    "#### [에디터에서 만든 프로그램을 실행할 때 오류가 발생한다면?]\n",
    "\n",
    "만약 파이썬 2.7 버전을 사용한다면 자판기 예제의 소스 코드에서 input(\"돈을 넣어 주세요: \") 대신 raw_input(\"돈을 넣어 주세요: \")로 사용해야 하며 소스 코드 가장 첫 번째 줄에 다음과 같은 문장을 반드시 넣어 주어야만 한다.\n",
    "\n",
    "> `# -*- coding: utf-8 -*-`\n",
    "\n",
    "파이썬 3 버전을 사용할 때도 아래와 같은 오류가 발생할 수 있다.\n",
    "\n",
    "> C:\\Python>python coffee.py <br>\n",
    "File \"coffee.py\", line 9 <br>\n",
    "SyntaxError: (unicode error) 'utf-8' codec can't decode byte 0xb9 in position 0:\n",
    "invalid start byte\n",
    "\n",
    "파이썬 3 버전에서 이런 오류가 발생했다면 아마 파일을 저장할 때 파일 인코딩 타입이 utf-8이 아니었을 것이다. 파일을 저장할 때 파일 인코딩을 utf-8로 맞추면 프로그램이 제대로 실행된다."
   ]
  },
  {
   "cell_type": "markdown",
   "metadata": {},
   "source": [
    "# 조건에 맞지 않는 경우 맨 처음으로 돌아가기\n",
    "\n",
    "while문 안의 문장을 수행할 때 입력된 조건을 검사해서 조건에 맞지 않으면 while문을 빠져나간다. 그런데 프로그래밍을 하다 보면 while문을 빠져나가지 않고 while문의 맨 처음(조건문)으로 다시 돌아가게 만들고 싶은 경우가 생기게 된다. 이때 사용하는 것이 바로 continue문이다.\n",
    "\n",
    "만약 1부터 10까지의 숫자 중에서 홀수만 출력하는 것을 while문을 이용해서 작성한다고 생각해 보자. 어떤 방법이 좋을까?"
   ]
  },
  {
   "cell_type": "code",
   "execution_count": null,
   "metadata": {
    "collapsed": true
   },
   "outputs": [],
   "source": [
    ">>> a = 0\n",
    ">>> while a < 10:\n",
    "...     a = a+1\n",
    "...     if a % 2 == 0: continue\n",
    "...     print(a)"
   ]
  },
  {
   "cell_type": "markdown",
   "metadata": {},
   "source": [
    "위의 예는 1부터 10까지의 숫자 중 홀수만을 출력하는 예이다. a가 10보다 작은 동안 a는 1만큼씩 계속 증가한다. if a % 2 == 0(a를 2로 나누었을 때 나머지가 0인 경우)이 참이 되는 경우는 a가 짝수일 때이다. 즉, a가 짝수이면 continue 문장을 수행한다. 이 continue문은 while문의 맨 처음(조건문: a<10)으로 돌아가게 하는 명령어이다. 따라서 위의 예에서 a가 짝수이면 print(a)는 수행되지 않을 것이다."
   ]
  },
  {
   "cell_type": "markdown",
   "metadata": {},
   "source": [
    "# 무한 루프\n",
    "\n",
    "이번에는 무한 루프(Loop)에 대해서 알아보자. 무한 루프란 무한히 반복한다는 의미이다. 우리가 사용하는 일반적인 프로그램 중에서 무한 루프의 개념을 사용하지 않는 프로그램은 거의 없다. 그만큼 자주 사용된다는 뜻이다.\n",
    "\n",
    "파이썬에서 무한 루프는 while문으로 구현할 수 있다. 다음은 무한 루프의 기본적인 형태이다."
   ]
  },
  {
   "cell_type": "code",
   "execution_count": null,
   "metadata": {
    "collapsed": true
   },
   "outputs": [],
   "source": [
    "while True: \n",
    "    수행할 문장1 \n",
    "    수행할 문장2\n",
    "    ..."
   ]
  },
  {
   "cell_type": "markdown",
   "metadata": {},
   "source": [
    "while문의 조건문이 True이므로 항상 참이 된다. 따라서 while문 안에 있는 문장들은 무한하게 수행될 것이다.\n",
    "\n",
    "다음의 무한 루프 예이다."
   ]
  },
  {
   "cell_type": "code",
   "execution_count": null,
   "metadata": {
    "collapsed": true
   },
   "outputs": [],
   "source": [
    ">>> while True:\n",
    "...     print(\"Ctrl+C를 눌러야 while문을 빠져나갈 수 있습니다.\")\n",
    "...\n",
    "Ctrl+C를 눌러야 while문을 빠져나갈 수 있습니다.\n",
    "Ctrl+C를 눌러야 while문을 빠져나갈 수 있습니다.\n",
    "Ctrl+C를 눌러야 while문을 빠져나갈 수 있습니다.\n",
    "...."
   ]
  },
  {
   "cell_type": "markdown",
   "metadata": {},
   "source": [
    "위의 문장은 영원히 출력된다. 하지만 이 예처럼 아무 의미 없이 무한 루프를 돌리는 경우는 거의 없을 것이다. [Ctrl+C]를 눌러 빠져나가도록 하자."
   ]
  }
 ],
 "metadata": {
  "kernelspec": {
   "display_name": "Python [Root]",
   "language": "python",
   "name": "Python [Root]"
  },
  "language_info": {
   "codemirror_mode": {
    "name": "ipython",
    "version": 2
   },
   "file_extension": ".py",
   "mimetype": "text/x-python",
   "name": "python",
   "nbconvert_exporter": "python",
   "pygments_lexer": "ipython2",
   "version": "2.7.12"
  }
 },
 "nbformat": 4,
 "nbformat_minor": 0
}
