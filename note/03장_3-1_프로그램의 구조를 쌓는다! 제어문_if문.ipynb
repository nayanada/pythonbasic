{
 "cells": [
  {
   "cell_type": "markdown",
   "metadata": {},
   "source": [
    "# 03장 프로그램의 구조를 쌓는다! 제어문\n",
    "\n",
    "이번 장에서는 if, while, for 등의 제어문에 대해서 배우고자 한다. 제어문을 배우기 전에 집을 짓는 일을 생각해 보자.\n",
    "\n",
    "집을 지을 때 나무, 돌, 시멘트 등은 재료가 되고, 철근은 집의 뼈대가 된다. 프로그램을 만드는 것도 집 짓기와 매우 비슷한 면이 있다. 나무, 돌, 시멘트와 같은 재료는 자료형이 되고, 집의 뼈대를 이루는 철근은 이번 장에서 알아볼 제어문에 해당한다. 이번 장에서는 자료형을 바탕으로 제어문을 이용하여 프로그램의 구조를 만들어 보자.\n",
    "\n",
    "# 03-1 if문\n",
    "\n",
    "다음과 같은 상상을 해보자.\n",
    "\n",
    "\"돈이 있으면 택시를 타고, 돈이 없으면 걸어 간다.\"\n",
    "우리 모두에게 언제든지 일어날 수 있는 상황 중 하나이다. 프로그래밍도 사람이 하는 것이므로 위의 문장처럼 주어진 조건을 판단한 후 그 상황에 맞게 처리해야 할 경우가 생긴다. 이렇듯 프로그래밍에서 조건을 판단하여 해당 조건에 맞는 상황을 수행하는 데 쓰이는 것이 바로 if 문이다.\n",
    "\n",
    "위와 같은 상황을 파이썬에서는 다음과 같이 표현할 수 있다."
   ]
  },
  {
   "cell_type": "code",
   "execution_count": 2,
   "metadata": {},
   "outputs": [
    {
     "name": "stdout",
     "output_type": "stream",
     "text": [
      "택시를 타고 가라\n"
     ]
    }
   ],
   "source": [
    ">>> money = 1\n",
    ">>> if money:\n",
    "...     print(\"택시를 타고 가라\")\n",
    "... else:\n",
    "...     print(\"걸어 가라\")"
   ]
  },
  {
   "cell_type": "markdown",
   "metadata": {},
   "source": [
    "money에 입력된 1은 참이다. 따라서 if문 다음의 문장이 수행되어 '택시를 타고 가라'가 출력된다."
   ]
  },
  {
   "cell_type": "markdown",
   "metadata": {},
   "source": [
    "# if문의 기본 구조\n",
    "\n",
    "다음은 if와 else를 이용한 조건문의 기본 구조이다."
   ]
  },
  {
   "cell_type": "code",
   "execution_count": 4,
   "metadata": {},
   "outputs": [
    {
     "ename": "SyntaxError",
     "evalue": "invalid syntax (<ipython-input-4-6fb0121471ec>, line 1)",
     "output_type": "error",
     "traceback": [
      "\u001b[1;36m  File \u001b[1;32m\"<ipython-input-4-6fb0121471ec>\"\u001b[1;36m, line \u001b[1;32m1\u001b[0m\n\u001b[1;33m    if 조건문:\u001b[0m\n\u001b[1;37m       ^\u001b[0m\n\u001b[1;31mSyntaxError\u001b[0m\u001b[1;31m:\u001b[0m invalid syntax\n"
     ]
    }
   ],
   "source": [
    "if 조건문:\n",
    "    수행할 문장1\n",
    "    수행할 문장2\n",
    "    ...\n",
    "else:\n",
    "    수행할 문장A\n",
    "    수행할 문장B\n",
    "    ..."
   ]
  },
  {
   "cell_type": "markdown",
   "metadata": {},
   "source": [
    "조건문을 테스트해서 참이면 if문 바로 다음의 문장(if 블록)들을 수행하고, 조건문이 거짓이면 else문 다음 의 문장(else 블록)들을 수행하게 된다. 그러므로 else문은 if문 없이 독립적으로 사용할 수 없다.\n",
    "\n",
    "### 들여쓰기\n",
    "\n",
    "if문을 만들 때는 if 조건문: 바로 아래 문장부터 if문에 속하는 모든 문장에 들여쓰기(indentation)를 해주어야 한다. 다음과 같이 조건문이 참일 경우 \"수행할 문장1\"을 들여쓰기 했고 \"수행할 문장2\"와 \"수행할 문장3\"도 들여쓰기를 해주었다. 다른 프로그래밍 언어를 사용했던 사람들은 파이썬에서 \"수행할 문장\"들을 들여쓰기 하는 것을 무시하는 경우가 많으니 더 주의해야 한다."
   ]
  },
  {
   "cell_type": "code",
   "execution_count": 5,
   "metadata": {},
   "outputs": [
    {
     "ename": "SyntaxError",
     "evalue": "invalid syntax (<ipython-input-5-5ba28e64be7b>, line 1)",
     "output_type": "error",
     "traceback": [
      "\u001b[1;36m  File \u001b[1;32m\"<ipython-input-5-5ba28e64be7b>\"\u001b[1;36m, line \u001b[1;32m1\u001b[0m\n\u001b[1;33m    if 조건문:\u001b[0m\n\u001b[1;37m       ^\u001b[0m\n\u001b[1;31mSyntaxError\u001b[0m\u001b[1;31m:\u001b[0m invalid syntax\n"
     ]
    }
   ],
   "source": [
    "if 조건문:\n",
    "    수행할 문장1\n",
    "    수행할 문장2\n",
    "    수행할 문장3"
   ]
  },
  {
   "cell_type": "markdown",
   "metadata": {},
   "source": [
    "다음과 같이 작성하면 오류가 발생한다. \"수행할 문장2\"를 들여쓰기 하지 않았기 때문이다."
   ]
  },
  {
   "cell_type": "code",
   "execution_count": 6,
   "metadata": {},
   "outputs": [
    {
     "ename": "SyntaxError",
     "evalue": "invalid syntax (<ipython-input-6-573ba8ea6b10>, line 1)",
     "output_type": "error",
     "traceback": [
      "\u001b[1;36m  File \u001b[1;32m\"<ipython-input-6-573ba8ea6b10>\"\u001b[1;36m, line \u001b[1;32m1\u001b[0m\n\u001b[1;33m    if 조건문:\u001b[0m\n\u001b[1;37m       ^\u001b[0m\n\u001b[1;31mSyntaxError\u001b[0m\u001b[1;31m:\u001b[0m invalid syntax\n"
     ]
    }
   ],
   "source": [
    "if 조건문:\n",
    "    수행할 문장1\n",
    "수행할 문장2\n",
    "    수행할 문장3"
   ]
  },
  {
   "cell_type": "markdown",
   "metadata": {},
   "source": [
    "다음 예제를 살펴보면 무슨 말인지 이해할 수 있을 것이다."
   ]
  },
  {
   "cell_type": "code",
   "execution_count": 9,
   "metadata": {},
   "outputs": [
    {
     "ename": "SyntaxError",
     "evalue": "invalid syntax (<ipython-input-9-43d5a65c9614>, line 4)",
     "output_type": "error",
     "traceback": [
      "\u001b[1;36m  File \u001b[1;32m\"<ipython-input-9-43d5a65c9614>\"\u001b[1;36m, line \u001b[1;32m4\u001b[0m\n\u001b[1;33m    File \"<stdin>\", line 4\u001b[0m\n\u001b[1;37m                 ^\u001b[0m\n\u001b[1;31mSyntaxError\u001b[0m\u001b[1;31m:\u001b[0m invalid syntax\n"
     ]
    }
   ],
   "source": [
    ">>> if money:\n",
    "...     print(\"택시를\")\n",
    "... print(\"타고\")\n",
    "File \"<stdin>\", line 4\n",
    "print(\"가자\")\n",
    "^\n",
    "SyntaxError: invalid syntax"
   ]
  },
  {
   "cell_type": "markdown",
   "metadata": {},
   "source": [
    "그렇다면 들여쓰기는 공백[Spacebar]으로 하는 것이 좋을까? 아니면 탭[Tab]으로 하는 것이 좋을까? 이에 대한 논란은 파이썬을 사용하는 사람들 사이에서 아직도 계속되고 있다. 탭으로 하자는 쪽과 공백으로 하자는 쪽 모두가 동의하는 내용은 단 하나, 2가지를 혼용해서 쓰지는 말자는 것이다. 공백으로 할 거면 항상 공백으로 통일하고, 탭으로 할 거면 항상 탭으로 통일해서 사용하자는 말이다. 탭이나 공백은 프로그램 소스에서 눈으로 보이는 것이 아니기 때문에 혼용해서 쓰면 에러의 원인이 되기도 한다. 주의하도록 하자.\n",
    "\n",
    "(※ 요즘 파이썬 커뮤니티에서는 들여쓰기를 할 때 공백(Spacebar) 4개를 사용하는 것을 권장한다.)"
   ]
  },
  {
   "cell_type": "markdown",
   "metadata": {},
   "source": [
    "##### [조건문 다음에 콜론(:)을 잊지 말자!]\n",
    "\n",
    "if 조건문 뒤에는 반드시 콜론(:)이 붙는다. 어떤 특별한 의미가 있다기보다는 파이썬의 문법 구조이다. 왜 하필 콜론(:)인지 궁금하다면 파이썬을 만든 귀도에게 직접 물어보아야 할 것이다. 앞으로 배우게 될 while이나 for, def, class문에도 역시 문장의 끝에 콜론(:)이 항상 들어간다. 초보자들은 이 콜론(:)을 빠뜨리는 경우가 많으니 특히 주의하자.\n",
    "\n",
    "파이썬이 다른 언어보다 보기 쉽고 소스 코드가 간결한 이유는 바로 콜론(:)을 사용하여 들여쓰기(indentation)를 하도록 만들었기 때문이다. 하지만 이는 숙련된 프로그래머들이 파이썬을 처음 접할 때 제일 혼란스러워하는 부분이기도 하다. 다른 언어에서는 if문을 { } 기호로 감싸지만 파이썬에서는 들여쓰기로 해결한다는 점을 기억하자."
   ]
  },
  {
   "cell_type": "markdown",
   "metadata": {},
   "source": [
    "# 조건문이란 무엇인가?\n",
    "\n",
    "if 조건문에서 \"조건문\"이란 참과 거짓을 판단하는 문장을 말한다. 자료형의 참과 거짓에 대해서 몇 가지만 다시 살펴보면 다음과 같은 것들이 있다."
   ]
  },
  {
   "cell_type": "code",
   "execution_count": 10,
   "metadata": {},
   "outputs": [
    {
     "data": {
      "text/html": [
       "<div>\n",
       "<table border=\"1\" class=\"dataframe\">\n",
       "  <thead>\n",
       "    <tr style=\"text-align: right;\">\n",
       "      <th></th>\n",
       "      <th>자료형</th>\n",
       "      <th>참</th>\n",
       "      <th>거짓</th>\n",
       "    </tr>\n",
       "  </thead>\n",
       "  <tbody>\n",
       "    <tr>\n",
       "      <th>0</th>\n",
       "      <td>숫자</td>\n",
       "      <td>0이 아닌 숫자</td>\n",
       "      <td>0</td>\n",
       "    </tr>\n",
       "    <tr>\n",
       "      <th>1</th>\n",
       "      <td>문자열</td>\n",
       "      <td>\"abc\"</td>\n",
       "      <td>\"\"</td>\n",
       "    </tr>\n",
       "    <tr>\n",
       "      <th>2</th>\n",
       "      <td>리스트</td>\n",
       "      <td>[1,2,3]</td>\n",
       "      <td>[]</td>\n",
       "    </tr>\n",
       "    <tr>\n",
       "      <th>3</th>\n",
       "      <td>터플</td>\n",
       "      <td>(1,2,3)</td>\n",
       "      <td>()</td>\n",
       "    </tr>\n",
       "    <tr>\n",
       "      <th>4</th>\n",
       "      <td>딕셔너리</td>\n",
       "      <td>{\"a\":\"b\"}</td>\n",
       "      <td>{}</td>\n",
       "    </tr>\n",
       "  </tbody>\n",
       "</table>\n",
       "</div>"
      ],
      "text/plain": [
       "    자료형          참  거짓\n",
       "0    숫자   0이 아닌 숫자   0\n",
       "1   문자열      \"abc\"  \"\"\n",
       "2   리스트    [1,2,3]  []\n",
       "3    터플    (1,2,3)  ()\n",
       "4  딕셔너리  {\"a\":\"b\"}  {}"
      ]
     },
     "execution_count": 10,
     "metadata": {},
     "output_type": "execute_result"
    }
   ],
   "source": [
    "import pandas as pd\n",
    "data = {'자료형': ['숫자', '문자열', '리스트', '터플', '딕셔너리'],\n",
    "        '참': ['0이 아닌 숫자', '\"abc\"', '[1,2,3]', '(1,2,3)', '{\"a\":\"b\"}'],\n",
    "        '거짓': ['0', '\"\"', '[]', '()', '{}']}\n",
    "df = pd.DataFrame(data)\n",
    "df[['자료형', '참', '거짓']]"
   ]
  },
  {
   "cell_type": "markdown",
   "metadata": {},
   "source": [
    "따라서 이전에 살펴보았던 택시 예제에서 조건문은 money가 된다."
   ]
  },
  {
   "cell_type": "code",
   "execution_count": 11,
   "metadata": {},
   "outputs": [
    {
     "ename": "IndentationError",
     "evalue": "expected an indented block (<ipython-input-11-50973857df19>, line 2)",
     "output_type": "error",
     "traceback": [
      "\u001b[1;36m  File \u001b[1;32m\"<ipython-input-11-50973857df19>\"\u001b[1;36m, line \u001b[1;32m2\u001b[0m\n\u001b[1;33m    if money:\u001b[0m\n\u001b[1;37m             ^\u001b[0m\n\u001b[1;31mIndentationError\u001b[0m\u001b[1;31m:\u001b[0m expected an indented block\n"
     ]
    }
   ],
   "source": [
    ">>> money = 1\n",
    ">>> if money:"
   ]
  },
  {
   "cell_type": "markdown",
   "metadata": {},
   "source": [
    "money는 1이기 때문에 참이 되어 if문 다음의 문장을 수행하게 된다."
   ]
  },
  {
   "cell_type": "markdown",
   "metadata": {},
   "source": [
    "### 비교연산자\n",
    "\n",
    "조건이 참인지 거짓인지 판단할 때 자료형보다는 비교연산자(<, >, ==, !=, >=, <=)를 쓰는 경우가 훨씬 많다.\n",
    "\n",
    "다음 표는 비교연산자를 잘 설명해 준다."
   ]
  },
  {
   "cell_type": "code",
   "execution_count": 12,
   "metadata": {},
   "outputs": [
    {
     "data": {
      "text/html": [
       "<div>\n",
       "<table border=\"1\" class=\"dataframe\">\n",
       "  <thead>\n",
       "    <tr style=\"text-align: right;\">\n",
       "      <th></th>\n",
       "      <th>비교연산자</th>\n",
       "      <th>설명</th>\n",
       "    </tr>\n",
       "  </thead>\n",
       "  <tbody>\n",
       "    <tr>\n",
       "      <th>0</th>\n",
       "      <td>x &lt; y</td>\n",
       "      <td>x가 y보다 작다</td>\n",
       "    </tr>\n",
       "    <tr>\n",
       "      <th>1</th>\n",
       "      <td>x &gt; y</td>\n",
       "      <td>x가 y보다 크다</td>\n",
       "    </tr>\n",
       "    <tr>\n",
       "      <th>2</th>\n",
       "      <td>x == y</td>\n",
       "      <td>x와 y가 같다</td>\n",
       "    </tr>\n",
       "    <tr>\n",
       "      <th>3</th>\n",
       "      <td>x != y</td>\n",
       "      <td>x와 y가 같지 않다</td>\n",
       "    </tr>\n",
       "    <tr>\n",
       "      <th>4</th>\n",
       "      <td>x &gt;= y</td>\n",
       "      <td>x가 y보다 크거나 같다</td>\n",
       "    </tr>\n",
       "    <tr>\n",
       "      <th>5</th>\n",
       "      <td>x &lt;= y</td>\n",
       "      <td>x가 y보다 작거나 같다</td>\n",
       "    </tr>\n",
       "  </tbody>\n",
       "</table>\n",
       "</div>"
      ],
      "text/plain": [
       "    비교연산자             설명\n",
       "0   x < y      x가 y보다 작다\n",
       "1   x > y      x가 y보다 크다\n",
       "2  x == y       x와 y가 같다\n",
       "3  x != y    x와 y가 같지 않다\n",
       "4  x >= y  x가 y보다 크거나 같다\n",
       "5  x <= y  x가 y보다 작거나 같다"
      ]
     },
     "execution_count": 12,
     "metadata": {},
     "output_type": "execute_result"
    }
   ],
   "source": [
    "import pandas as pd\n",
    "data = {'비교연산자': ['x < y', 'x > y', 'x == y', 'x != y', 'x >= y', 'x <= y'],\n",
    "        '설명': ['x가 y보다 작다', 'x가 y보다 크다', 'x와 y가 같다', 'x와 y가 같지 않다', 'x가 y보다 크거나 같다', 'x가 y보다 작거나 같다']}\n",
    "df = pd.DataFrame(data)\n",
    "df[['비교연산자', '설명']]"
   ]
  },
  {
   "cell_type": "markdown",
   "metadata": {},
   "source": [
    "이제 위의 연산자들을 어떻게 사용하는지 알아보자."
   ]
  },
  {
   "cell_type": "code",
   "execution_count": 13,
   "metadata": {},
   "outputs": [
    {
     "data": {
      "text/plain": [
       "True"
      ]
     },
     "execution_count": 13,
     "metadata": {},
     "output_type": "execute_result"
    }
   ],
   "source": [
    ">>> x = 3\n",
    ">>> y = 2\n",
    ">>> x > y"
   ]
  },
  {
   "cell_type": "markdown",
   "metadata": {},
   "source": [
    "x에 3을, y에 2를 대입한 다음에 x > y라는 조건문을 수행하면 True를 리턴한다. x > y라는 조건문이 참이기 때문이다."
   ]
  },
  {
   "cell_type": "code",
   "execution_count": 14,
   "metadata": {},
   "outputs": [
    {
     "data": {
      "text/plain": [
       "False"
      ]
     },
     "execution_count": 14,
     "metadata": {},
     "output_type": "execute_result"
    }
   ],
   "source": [
    ">>> x < y"
   ]
  },
  {
   "cell_type": "markdown",
   "metadata": {},
   "source": [
    "위의 조건문은 거짓이기 때문에 False를 리턴한다."
   ]
  },
  {
   "cell_type": "code",
   "execution_count": 15,
   "metadata": {},
   "outputs": [
    {
     "data": {
      "text/plain": [
       "False"
      ]
     },
     "execution_count": 15,
     "metadata": {},
     "output_type": "execute_result"
    }
   ],
   "source": [
    ">>> x == y"
   ]
  },
  {
   "cell_type": "markdown",
   "metadata": {},
   "source": [
    "x와 y는 같지 않다. 따라서 위의 조건문은 거짓이다."
   ]
  },
  {
   "cell_type": "code",
   "execution_count": 16,
   "metadata": {},
   "outputs": [
    {
     "data": {
      "text/plain": [
       "True"
      ]
     },
     "execution_count": 16,
     "metadata": {},
     "output_type": "execute_result"
    }
   ],
   "source": [
    ">>> x != y"
   ]
  },
  {
   "cell_type": "markdown",
   "metadata": {},
   "source": [
    "x와 y는 같지 않다. 따라서 위의 조건문은 참이다.\n",
    "\n",
    "앞에서 살펴본 택시 예제를 다음처럼 바꾸려면 어떻게 해야 할까?\n",
    "\n",
    "> \"만약 3000원 이상의 돈을 가지고 있으면 택시를 타고 그렇지 않으면 걸어 가라\"\n",
    "\n",
    "위의 상황은 다음처럼 프로그래밍할 수 있다."
   ]
  },
  {
   "cell_type": "code",
   "execution_count": 17,
   "metadata": {},
   "outputs": [
    {
     "name": "stdout",
     "output_type": "stream",
     "text": [
      "걸어가라\n"
     ]
    }
   ],
   "source": [
    ">>> money = 2000\n",
    ">>> if money >= 3000:\n",
    "...     print(\"택시를 타고 가라\")\n",
    "... else:\n",
    "...     print(\"걸어가라\")"
   ]
  },
  {
   "cell_type": "markdown",
   "metadata": {},
   "source": [
    "money >= 3000이라는 조건문이 거짓이 되기 때문에 else문 다음의 문장을 수행하게 된다."
   ]
  },
  {
   "cell_type": "markdown",
   "metadata": {},
   "source": [
    "### and, or, not\n",
    "\n",
    "조건을 판단하기 위해 사용하는 다른 연산자로는 and, or, not이 있다. 각각의 연산자는 다음처럼 동작한다."
   ]
  },
  {
   "cell_type": "code",
   "execution_count": 18,
   "metadata": {},
   "outputs": [
    {
     "data": {
      "text/html": [
       "<div>\n",
       "<table border=\"1\" class=\"dataframe\">\n",
       "  <thead>\n",
       "    <tr style=\"text-align: right;\">\n",
       "      <th></th>\n",
       "      <th>연산자</th>\n",
       "      <th>설명</th>\n",
       "    </tr>\n",
       "  </thead>\n",
       "  <tbody>\n",
       "    <tr>\n",
       "      <th>0</th>\n",
       "      <td>x or y</td>\n",
       "      <td>x와 y 둘 중에 하나만 참이면 참이다</td>\n",
       "    </tr>\n",
       "    <tr>\n",
       "      <th>1</th>\n",
       "      <td>x and y</td>\n",
       "      <td>x와 y 모두 참이어야 참이다</td>\n",
       "    </tr>\n",
       "    <tr>\n",
       "      <th>2</th>\n",
       "      <td>not x</td>\n",
       "      <td>x가 거짓이면 참이다</td>\n",
       "    </tr>\n",
       "  </tbody>\n",
       "</table>\n",
       "</div>"
      ],
      "text/plain": [
       "       연산자                     설명\n",
       "0   x or y  x와 y 둘 중에 하나만 참이면 참이다\n",
       "1  x and y       x와 y 모두 참이어야 참이다\n",
       "2    not x            x가 거짓이면 참이다"
      ]
     },
     "execution_count": 18,
     "metadata": {},
     "output_type": "execute_result"
    }
   ],
   "source": [
    "import pandas as pd\n",
    "data = {'연산자': ['x or y', 'x and y', 'not x'],\n",
    "        '설명': ['x와 y 둘 중에 하나만 참이면 참이다', 'x와 y 모두 참이어야 참이다','x가 거짓이면 참이다']}\n",
    "df = pd.DataFrame(data)\n",
    "df[['연산자', '설명']]"
   ]
  },
  {
   "cell_type": "markdown",
   "metadata": {},
   "source": [
    "다음의 예를 통해 or 연산자의 사용법을 알아보자.\n",
    "\n",
    "> \"돈이 3000원 이상 있거나 카드가 있다면 택시를 타고 그렇지 않으면 걸어 가라\""
   ]
  },
  {
   "cell_type": "code",
   "execution_count": 19,
   "metadata": {},
   "outputs": [
    {
     "name": "stdout",
     "output_type": "stream",
     "text": [
      "택시를 타고 가라\n"
     ]
    }
   ],
   "source": [
    ">>> money = 2000\n",
    ">>> card = 1\n",
    ">>> if money >= 3000 or card:\n",
    "...     print(\"택시를 타고 가라\")\n",
    "... else:\n",
    "...     print(\"걸어가라\")"
   ]
  },
  {
   "cell_type": "markdown",
   "metadata": {},
   "source": [
    "money는 2000이지만 card가 1이기 때문에 money >= 3000 or card라는 조건문이 참이 된다. 따라서 if문 다음의 \"택시를 타고 가라\"라는 문장이 수행된다."
   ]
  },
  {
   "cell_type": "markdown",
   "metadata": {},
   "source": [
    "### x in s, x not in s\n",
    "\n",
    "더 나아가 파이썬은 다른 프로그래밍 언어에서 쉽게 볼 수 없는 재미있는 조건문들을 제공한다. 바로 다음과 같은 것들이다."
   ]
  },
  {
   "cell_type": "code",
   "execution_count": 20,
   "metadata": {},
   "outputs": [
    {
     "data": {
      "text/html": [
       "<div>\n",
       "<table border=\"1\" class=\"dataframe\">\n",
       "  <thead>\n",
       "    <tr style=\"text-align: right;\">\n",
       "      <th></th>\n",
       "      <th>in</th>\n",
       "      <th>not in</th>\n",
       "    </tr>\n",
       "  </thead>\n",
       "  <tbody>\n",
       "    <tr>\n",
       "      <th>0</th>\n",
       "      <td>x in 리스트</td>\n",
       "      <td>x not in 리스트</td>\n",
       "    </tr>\n",
       "    <tr>\n",
       "      <th>1</th>\n",
       "      <td>x in 튜플</td>\n",
       "      <td>x not in 튜플</td>\n",
       "    </tr>\n",
       "    <tr>\n",
       "      <th>2</th>\n",
       "      <td>x in 문자열</td>\n",
       "      <td>x not in 문자열</td>\n",
       "    </tr>\n",
       "  </tbody>\n",
       "</table>\n",
       "</div>"
      ],
      "text/plain": [
       "         in        not in\n",
       "0  x in 리스트  x not in 리스트\n",
       "1   x in 튜플   x not in 튜플\n",
       "2  x in 문자열  x not in 문자열"
      ]
     },
     "execution_count": 20,
     "metadata": {},
     "output_type": "execute_result"
    }
   ],
   "source": [
    "import pandas as pd\n",
    "data = {'in': ['x in 리스트', 'x in 튜플', 'x in 문자열'],\n",
    "        'not in': ['x not in 리스트', 'x not in 튜플','x not in 문자열']}\n",
    "df = pd.DataFrame(data)\n",
    "df[['in', 'not in']]"
   ]
  },
  {
   "cell_type": "markdown",
   "metadata": {},
   "source": [
    "in이라는 영어 단어의 뜻이 \"~안에\"라는 것을 생각해 보면 다음 예들이 쉽게 이해될 것이다."
   ]
  },
  {
   "cell_type": "code",
   "execution_count": 21,
   "metadata": {},
   "outputs": [
    {
     "name": "stdout",
     "output_type": "stream",
     "text": [
      "True\n",
      "False\n"
     ]
    }
   ],
   "source": [
    ">>> print 1 in [1, 2, 3]\n",
    ">>> print 1 not in [1, 2, 3]"
   ]
  },
  {
   "cell_type": "markdown",
   "metadata": {},
   "source": [
    "앞에서 첫 번째 예는 \"[1, 2, 3]이라는 리스트 안에 1이 있는가?\"라는 조건문이다. 1은 [1, 2, 3] 안에 있으므로 참이 되어 True를 리턴한다. 두 번째 예는 \"[1, 2, 3]이라는 리스트 안에 1이 없는가?\"라는 조건문이다. 1은 [1, 2, 3] 안에 있으므로 거짓이 되어 False를 리턴한다.\n",
    "\n",
    "다음은 튜플과 문자열에 적용한 예이다. 각각의 결과가 나온 이유는 쉽게 유추할 수 있다."
   ]
  },
  {
   "cell_type": "code",
   "execution_count": 22,
   "metadata": {},
   "outputs": [
    {
     "name": "stdout",
     "output_type": "stream",
     "text": [
      "True\n",
      "True\n"
     ]
    }
   ],
   "source": [
    ">>> print 'a' in ('a', 'b', 'c')\n",
    ">>> print 'j' not in 'python'"
   ]
  },
  {
   "cell_type": "markdown",
   "metadata": {},
   "source": [
    "이번에는 우리가 계속 사용해 온 택시 예제에 in을 적용해 보자.\n",
    "\n",
    "> \"만약 주머니에 돈이 있으면 택시를 타고, 없으면 걸어 가라\""
   ]
  },
  {
   "cell_type": "code",
   "execution_count": 23,
   "metadata": {},
   "outputs": [
    {
     "name": "stdout",
     "output_type": "stream",
     "text": [
      "택시를 타고 가라\n"
     ]
    }
   ],
   "source": [
    ">>> pocket = ['paper', 'cellphone', 'money']\n",
    ">>> if 'money' in pocket:\n",
    "...     print(\"택시를 타고 가라\")\n",
    "... else:\n",
    "...     print(\"걸어가라\")"
   ]
  },
  {
   "cell_type": "markdown",
   "metadata": {},
   "source": [
    "['paper', 'cellphone', 'money']라는 리스트 안에 'money'가 있으므로 'money' in pocket은 참이 된다. 따라서 if문 다음의 문장이 수행된다."
   ]
  },
  {
   "cell_type": "markdown",
   "metadata": {},
   "source": [
    "##### [조건문에서 아무 일도 하지 않게 설정하고 싶다면?]\n",
    "\n",
    "가끔 조건문의 참, 거짓에 따라 실행할 행동을 정의할 때, 아무런 일도 하지 않도록 설정하고 싶을 때가 있다. 다음의 예를 보자.\n",
    "\n",
    "\"주머니에 돈이 있으면 가만히 있고 주머니에 돈이 없으면 카드를 꺼내라\"\n",
    "이럴 때 사용하는 것이 바로 pass이다. 위의 예를 pass를 적용해서 구현해 보자."
   ]
  },
  {
   "cell_type": "code",
   "execution_count": 24,
   "metadata": {
    "collapsed": true
   },
   "outputs": [],
   "source": [
    ">>> pocket = ['paper', 'money', 'cellphone']\n",
    ">>> if 'money' in pocket:\n",
    "...     pass \n",
    "... else:\n",
    "...     print(\"카드를 꺼내라\")"
   ]
  },
  {
   "cell_type": "markdown",
   "metadata": {},
   "source": [
    "pocket이라는 리스트 안에 money라는 문자열이 있기 때문에 if문 다음 문장인 pass가 수행되고 아무런 결과값도 보여 주지 않는다."
   ]
  },
  {
   "cell_type": "markdown",
   "metadata": {},
   "source": [
    "# 다양한 조건을 판단하는 elif\n",
    "\n",
    "if와 else만으로는 다양한 조건을 판단하기 어렵다. 다음과 같은 예를 보더라도 if와 else만으로는 조건을 판단하는 데 어려움을 겪게 된다.\n",
    "\n",
    "> \"주머니에 돈이 있으면 택시를 타고, 주머니에 돈은 없지만 카드가 있으면 택시를 타고, 돈도 없고 카드 도 없으면 걸어 가라\"\n",
    "\n",
    "위의 문장을 보면 조건을 판단하는 부분이 두 군데가 있다. 먼저 주머니에 돈이 있는지를 판단해야 하고 주머니에 돈이 없으면 다시 카드가 있는지 판단해야 한다.\n",
    "\n",
    "if와 else만으로 위의 문장을 표현하려면 다음과 같이 할 수 있다."
   ]
  },
  {
   "cell_type": "code",
   "execution_count": 25,
   "metadata": {},
   "outputs": [
    {
     "name": "stdout",
     "output_type": "stream",
     "text": [
      "택시를 타고가라\n"
     ]
    }
   ],
   "source": [
    ">>> pocket = ['paper', 'handphone']\n",
    ">>> card = 1\n",
    ">>> if 'money' in pocket:\n",
    "...     print(\"택시를 타고가라\")\n",
    "... else:\n",
    "...     if card:\n",
    "...         print(\"택시를 타고가라\")\n",
    "...     else:\n",
    "...         print(\"걸어가라\")"
   ]
  },
  {
   "cell_type": "markdown",
   "metadata": {},
   "source": [
    "언뜻 보기에도 이해하기 어렵고 산만한 느낌이 든다. 이런 복잡함을 해결하기 위해 파이썬에서는 다중 조건 판단을 가능하게 하는 elif라는 것을 사용한다.\n",
    "\n",
    "위의 예를 elif를 사용하면 다음과 같이 바꿀 수 있다."
   ]
  },
  {
   "cell_type": "code",
   "execution_count": 26,
   "metadata": {},
   "outputs": [
    {
     "name": "stdout",
     "output_type": "stream",
     "text": [
      "택시를 타고가라\n"
     ]
    }
   ],
   "source": [
    ">>> pocket = ['paper', 'cellphone']\n",
    ">>> card = 1\n",
    ">>> if 'money' in pocket:\n",
    "...      print(\"택시를 타고가라\")\n",
    "... elif card: \n",
    "...      print(\"택시를 타고가라\")\n",
    "... else:\n",
    "...      print(\"걸어가라\")"
   ]
  },
  {
   "cell_type": "markdown",
   "metadata": {},
   "source": [
    "즉, elif는 이전 조건문이 거짓일 때 수행된다. if, elif, else를 모두 사용할 때 기본 구조는 다음과 같다."
   ]
  },
  {
   "cell_type": "code",
   "execution_count": null,
   "metadata": {
    "collapsed": true
   },
   "outputs": [],
   "source": [
    "If <조건문>:\n",
    "    <수행할 문장1> \n",
    "    <수행할 문장2>\n",
    "    ...\n",
    "elif <조건문>:\n",
    "    <수행할 문장1>\n",
    "    <수행할 문장2>\n",
    "    ...\n",
    "elif <조건문>:\n",
    "    <수행할 문장1>\n",
    "    <수행할 문장2>\n",
    "    ...\n",
    "...\n",
    "else:\n",
    "   <수행할 문장1>\n",
    "   <수행할 문장2>\n",
    "   ... "
   ]
  },
  {
   "cell_type": "markdown",
   "metadata": {},
   "source": [
    "위에서 볼 수 있듯이 elif는 개수에 제한 없이 사용할 수 있다."
   ]
  },
  {
   "cell_type": "markdown",
   "metadata": {},
   "source": [
    "##### [if문을 한 줄로 작성하기]\n",
    "\n",
    "앞의 pass를 사용한 예를 보면 if문 다음에 수행할 문장이 한 줄이고, else문 다음에 수행할 문장도 한 줄밖에 되지 않는다."
   ]
  },
  {
   "cell_type": "code",
   "execution_count": 27,
   "metadata": {},
   "outputs": [
    {
     "name": "stdout",
     "output_type": "stream",
     "text": [
      "카드를 꺼내라\n"
     ]
    }
   ],
   "source": [
    ">>> if 'money' in pocket:\n",
    "...     pass \n",
    "... else:\n",
    "...     print(\"카드를 꺼내라\")"
   ]
  },
  {
   "cell_type": "markdown",
   "metadata": {},
   "source": [
    "이렇게 수행할 문장이 한 줄일 때 조금 더 간략하게 코드를 작성하는 방법이 있다."
   ]
  },
  {
   "cell_type": "code",
   "execution_count": 28,
   "metadata": {
    "collapsed": true
   },
   "outputs": [],
   "source": [
    ">>> pocket = ['paper', 'money', 'cellphone']\n",
    ">>> if 'money' in pocket: pass\n",
    "... else: print(\"카드를 꺼내라\")"
   ]
  },
  {
   "cell_type": "markdown",
   "metadata": {},
   "source": [
    "if문 다음의 수행할 문장을 콜론(:) 뒤에 바로 적어 주었다. else문 역시 마찬가지이다. 때때로 이렇게 작성하 는 것이 보기 편할 수 있다."
   ]
  }
 ],
 "metadata": {
  "kernelspec": {
   "display_name": "Python 3",
   "language": "python",
   "name": "python3"
  },
  "language_info": {
   "codemirror_mode": {
    "name": "ipython",
    "version": 3
   },
   "file_extension": ".py",
   "mimetype": "text/x-python",
   "name": "python",
   "nbconvert_exporter": "python",
   "pygments_lexer": "ipython3",
   "version": "3.6.1"
  }
 },
 "nbformat": 4,
 "nbformat_minor": 1
}
