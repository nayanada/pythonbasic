{
 "cells": [
  {
   "cell_type": "markdown",
   "metadata": {},
   "source": [
    "# 01-5 파이썬 둘러보기\n",
    "\n",
    "도대체 파이썬이라는 언어는 어떻게 생겼는지, 간단한 코드를 작성하며 알아보자. 파이썬을 자세히 탐구하기 전에 전체적인 모습을 죽 훑어보는 것은 매우 유익한 일이 될 것이다.\n",
    "\n",
    "\"백문이 불여일견, 백견이 불여일타\"라고 했다. 직접 따라 해보자.\n",
    "\n"
   ]
  },
  {
   "cell_type": "markdown",
   "metadata": {},
   "source": [
    "# 파이썬 기초 문법 따라 해보기\n",
    "\n",
    "여기서 소개하는 내용들은 나중에 다시 자세하게 다룰 것이니 이해가 되지 않는다고 절망하거나 너무 고심하지 말도록 하자.\n",
    "\n",
    "파이썬 인터프리터를 실행하여 다음을 직접 입력해 보자.\n",
    "\n",
    "### 사칙연산\n",
    "\n",
    "1 더하기(+) 2는 3이라는 값을 출력해 보자. 보통 계산기 사용하듯 더하기 기호만 넣어 주면 된다."
   ]
  },
  {
   "cell_type": "code",
   "execution_count": 1,
   "metadata": {},
   "outputs": [
    {
     "data": {
      "text/plain": [
       "3"
      ]
     },
     "execution_count": 1,
     "metadata": {},
     "output_type": "execute_result"
    }
   ],
   "source": [
    "1 + 2"
   ]
  },
  {
   "cell_type": "markdown",
   "metadata": {},
   "source": [
    "나눗셈(/)과 곱셈(`*`) 역시 예상한 대로 결과값을 보여준다."
   ]
  },
  {
   "cell_type": "code",
   "execution_count": 3,
   "metadata": {},
   "outputs": [
    {
     "name": "stdout",
     "output_type": "stream",
     "text": [
      "1.25\n",
      "27\n"
     ]
    }
   ],
   "source": [
    "print (3 / 2.4)\n",
    "print (3 * 9)"
   ]
  },
  {
   "cell_type": "markdown",
   "metadata": {},
   "source": [
    "우리가 일반적으로 알고 있는 ÷ 기호나 × 기호가 아닌 것에 주의하자."
   ]
  },
  {
   "cell_type": "markdown",
   "metadata": {},
   "source": [
    "### 변수에 숫자 대입하고 계산하기"
   ]
  },
  {
   "cell_type": "code",
   "execution_count": 6,
   "metadata": {},
   "outputs": [
    {
     "name": "stdout",
     "output_type": "stream",
     "text": [
      "3\n",
      "-1\n"
     ]
    }
   ],
   "source": [
    "a = 1\n",
    "b = 2\n",
    "print(a + b)\n",
    "print(a-b)"
   ]
  },
  {
   "cell_type": "markdown",
   "metadata": {},
   "source": [
    "a에 1을, b에 2를 대입한 다음 a와 b를 더하면 3이라는 결과값을 보여 준다."
   ]
  },
  {
   "cell_type": "markdown",
   "metadata": {},
   "source": [
    "### 변수에 문자 대입하고 출력하기"
   ]
  },
  {
   "cell_type": "code",
   "execution_count": 7,
   "metadata": {},
   "outputs": [
    {
     "name": "stdout",
     "output_type": "stream",
     "text": [
      "Python\n"
     ]
    }
   ],
   "source": [
    "a = \"Python\"\n",
    "print(a)"
   ]
  },
  {
   "cell_type": "markdown",
   "metadata": {},
   "source": [
    "a라는 변수에 Python이라는 값을 대입한 다음 print(a) 라고 작성하면 a의 값을 출력한다.\n",
    "\n",
    "※ 파이썬은 대소문자를 구분한다. print를 PRINT로 쓰면 정의되지 않았다는 에러 메시지가 나온다."
   ]
  },
  {
   "cell_type": "markdown",
   "metadata": {},
   "source": [
    "#### [변수에 복소수도 넣을 수 있을까?]\n",
    "\n",
    "파이썬은 복소수도 지원한다"
   ]
  },
  {
   "cell_type": "code",
   "execution_count": null,
   "metadata": {
    "collapsed": true
   },
   "outputs": [],
   "source": [
    "a = 2 + 3j\n",
    "b = 3\n",
    "a * b"
   ]
  },
  {
   "cell_type": "markdown",
   "metadata": {},
   "source": [
    "변수 a에 2+3j라는 값을 대입하고, 변수 b에 3을 대입하였다. 여기서 2+3j란 복소수를 의미한다. 보통 우리는 고등학교 때 복소수를 표시할 때 알파벳 i를 이용해서 2 + 3i처럼 사용했지만 파이썬에서는 j를 사용한다. 위의 예는 2 + 3j 와 3을 곱하는 방법이다. 당연히 결과값으로 6+9j를 출력한다."
   ]
  },
  {
   "cell_type": "markdown",
   "metadata": {},
   "source": [
    "### 조건문 if\n",
    "\n",
    "다음은 간단한 조건문 if를 이용한 예제이다."
   ]
  },
  {
   "cell_type": "code",
   "execution_count": 11,
   "metadata": {},
   "outputs": [
    {
     "name": "stdout",
     "output_type": "stream",
     "text": [
      "a is greater than 1\n"
     ]
    }
   ],
   "source": [
    "a = 3\n",
    "if a > 1: \n",
    "    print(\"a is greater than 1\")"
   ]
  },
  {
   "cell_type": "markdown",
   "metadata": {},
   "source": [
    "※ print문 앞의 ''은 아직 문장이 끝나지 않았음을 의미한다.\n",
    "\n",
    "위 예제는 a가 1보다 크면 \"a is greater than 1\"이라는 문장을 출력(print)하라는 뜻이다. 위 예제에서 a는 3이므로 1보다 크다. 따라서 두 번째 \"\" 이후에 Enter키를 입력하면 if문이 종료되고 \"a is greater than 1\"이라는 문장이 출력된다.\n",
    "\n",
    "if a > 1: 다음 문장은 Tap 키 또는 Spacebar 키 4개를 이용해 반드시 들여쓰기 한 후에 print(\"a is greater than 1\")이라고 작성해야 한다. 들여쓰기 규칙에 대해서는 05장 제어문에서 자세하게 알아볼 것이다. 바로 뒤에 이어지는 반복문 for, while 예제도 마찬가지로 들여쓰기가 필요하다."
   ]
  },
  {
   "cell_type": "markdown",
   "metadata": {},
   "source": [
    "### 반복문 for\n",
    "\n",
    "다음은 for를 이용해서 [1, 2, 3]안의 값들을 하나씩 출력해 주는 것을 보여주는 예이다."
   ]
  },
  {
   "cell_type": "code",
   "execution_count": 12,
   "metadata": {},
   "outputs": [
    {
     "name": "stdout",
     "output_type": "stream",
     "text": [
      "1\n",
      "2\n",
      "3\n"
     ]
    }
   ],
   "source": [
    "for a in [1, 2, 3]: \n",
    "    print(a)"
   ]
  },
  {
   "cell_type": "markdown",
   "metadata": {},
   "source": [
    "for문을 이용하면 실행해야 할 문장을 여러 번 반복해서 실행시킬 수 있다. 위의 예는 대괄호([ ]) 사이에 있는 값들을 하나씩 출력한다. 위 코드의 의미는 \"[1, 2, 3]이라는 리스트의 앞에서부터 하나씩 꺼내어 a라는 변수에 대입한 후 print(a)를 수행하라\"이다. 당연히 a에 차례로 1, 2, 3이라는 값이 대입되며 print(a)에 의해서 그 값이 차례대로 출력된다."
   ]
  },
  {
   "cell_type": "markdown",
   "metadata": {},
   "source": [
    "### 반복문 while\n",
    "\n",
    "다음은 while을 이용하는 예이다."
   ]
  },
  {
   "cell_type": "code",
   "execution_count": 1,
   "metadata": {},
   "outputs": [
    {
     "name": "stdout",
     "output_type": "stream",
     "text": [
      "0\n",
      "1\n",
      "2\n",
      "3\n",
      "4\n"
     ]
    }
   ],
   "source": [
    "i = 0\n",
    "while True :\n",
    "    if i> 4 :\n",
    "        break\n",
    "    print(i)\n",
    "    i = i+1"
   ]
  },
  {
   "cell_type": "markdown",
   "metadata": {},
   "source": [
    "while이라는 영어 단어는 \"~인 동안\"이란 뜻이다. for문과 마찬가지로 반복해서 문장을 수행할 수 있도록 해준다. 위의 예제는 i 값이 3보다 작은 동안 i=i+1과 print(i)를 수행하라는 말이다. i=i+1이라는 문장은 i의 값을 1씩 더하게 한다. i 값이 3보다 커지게 되면 while문을 빠져나가게 된다."
   ]
  },
  {
   "cell_type": "markdown",
   "metadata": {},
   "source": [
    "### 함수\n",
    "\n",
    "파이썬의 함수는 다음과 같은 형태이다."
   ]
  },
  {
   "cell_type": "code",
   "execution_count": 19,
   "metadata": {},
   "outputs": [
    {
     "name": "stdout",
     "output_type": "stream",
     "text": [
      "7\n"
     ]
    }
   ],
   "source": [
    "def sum(a, b):\n",
    "    return a+b\n",
    "print(sum(3,4))"
   ]
  },
  {
   "cell_type": "markdown",
   "metadata": {},
   "source": [
    "파이썬에서 def는 함수를 만들 때 사용하는 예약어이다. 위의 예제는 sum이라는 함수를 만들고 그 함수를 어떻게 사용하는지를 보여준다. sum(a, b)에서 a, b는 입력값이고, a+b는 결과값이다. 즉 3, 4가 입력으로 들어오면 3+4를 수행하고 그 결과값인 7을 돌려 준다.\n",
    "\n",
    "이렇게 해서 기초적인 파이썬 문법에 대해서 간략하게 알아보았다."
   ]
  },
  {
   "cell_type": "markdown",
   "metadata": {},
   "source": [
    "### 에디터로 파이썬 프로그램 작성하기\n",
    "\n",
    "다음과 같은 프로그램을 에디터로 직접 작성해 보자."
   ]
  },
  {
   "cell_type": "code",
   "execution_count": null,
   "metadata": {
    "collapsed": true
   },
   "outputs": [],
   "source": [
    "# hello.py\n",
    "print(\"Hello world\")"
   ]
  },
  {
   "cell_type": "markdown",
   "metadata": {},
   "source": [
    "위의 파일에서 # hello.py라는 문장은 주석이다. #으로 시작하는 문장은 #부터 시작해서 그 줄 끝까지 프로그램 수행에 전혀 영향을 주지 않는다. 주석은 프로그래머를 위한 것으로, 프로그램 소스에 설명문을 달 때 사용한다."
   ]
  },
  {
   "cell_type": "markdown",
   "metadata": {},
   "source": [
    "#### [여러줄짜리 주석문]\n",
    "주석문이 여러 줄인 경우 다음의 방법을 사용하면 편리하다.\n",
    "\n",
    "> \"\"\" <br>\n",
    "Author: EungYong Park <br>\n",
    "Date : 2016-01-01 <br> \n",
    "이 프로그램은 Hello World를 출력하는 프로그램이다. <br>\n",
    "\"\"\"\n",
    "\n",
    "여러 줄로 이루어진 주석을 작성하려면 큰따옴표 세 개를 연속으로 사용한 \"\"\" 기호 사이에 주석문을 작성하 면 된다. 큰따옴표 대신 작은따옴표 세 개를(''')를 사용해도 된다.\n"
   ]
  },
  {
   "cell_type": "markdown",
   "metadata": {},
   "source": [
    "앞에서와 같이 작성한 파일을 hello.py라는 이름으로 C:\\Python 디렉터리에 저장하자. 에디터로 파이썬 프로그램을 작성한 후 저장할 때는 파일 이름의 확장자명을 항상 py로 해야한다. py는 파이썬 파일임을 알려주는 관례적인 확장자명이다.\n",
    "\n",
    "이제 이 hello.py라는 프로그램을 실행시키기 위해 [윈도우+R -> cmd 입력 -> Enter]를 눌러 도스 창을 연다.\n",
    "\n",
    "hello.py라는 파일이 저장된 곳으로 이동한 후 다음과 같이 입력한다. 이 책에서는 hello.py 파일을 C:\\Python 디렉터리에 저장했다.\n",
    "\n",
    "> C:\\Users\\home>cd C:\\Python <br>\n",
    "C:\\Python>python hello.py <br>\n",
    "Hello World\n",
    "\n",
    "위와 같은 결과값을 볼 수 있을 것이다. 결과값이 위와 같지 않다면 hello.py 파일이 C:\\Python 디렉터리에 존재하는지 다시 한 번 살펴보도록 하자.\n",
    "\n",
    "이번 예제에서는 Hello world라는 문장을 출력하는 단순한 프로그램을 에디터로 작성했지만 보통 에디터로 작성하는 프로그램은 꽤 여러 줄로 이루어진다. 여기서 중요한 사실은 에디터로 만든 프로그램은 파일로 존재한다는 점이다. 대화형 인터프리터에서 만든 프로그램은 인터프리터를 종료함과 동시에 사라지지만 에디터로 만든 프로그램은 파일로 존재하기 때문에 언제든지 다시 사용할 수 있다.\n",
    "\n",
    "왜 대부분이 에디터를 이용해서 파이썬 프로그램을 작성하는지 이제 이해가 될 것이다."
   ]
  }
 ],
 "metadata": {
  "anaconda-cloud": {},
  "kernelspec": {
   "display_name": "Python 3",
   "language": "python",
   "name": "python3"
  },
  "language_info": {
   "codemirror_mode": {
    "name": "ipython",
    "version": 3
   },
   "file_extension": ".py",
   "mimetype": "text/x-python",
   "name": "python",
   "nbconvert_exporter": "python",
   "pygments_lexer": "ipython3",
   "version": "3.6.1"
  }
 },
 "nbformat": 4,
 "nbformat_minor": 1
}
